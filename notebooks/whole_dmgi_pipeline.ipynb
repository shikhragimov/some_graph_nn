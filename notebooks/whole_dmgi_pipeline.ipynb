{
 "cells": [
  {
   "cell_type": "markdown",
   "id": "7e9fccf6-f68f-4999-bbe2-680e38b60332",
   "metadata": {},
   "source": [
    "Simple pipeline and plyground for analizing temporal graphs by using DMGI.\n",
    "\n",
    "Currently on mock data"
   ]
  },
  {
   "cell_type": "code",
   "execution_count": null,
   "id": "6f07f4a2-f523-4161-8d85-4390a7373aef",
   "metadata": {},
   "outputs": [],
   "source": [
    "import sys\n",
    "import logging\n",
    "import torch\n",
    "sys.path.append(\"../\")\n",
    "from temporal_graphs.src.data.mock_data import get_temporal_mock_graph\n",
    "from temporal_graphs.src.data import make_dataset\n",
    "from temporal_graphs.src.temporal_graph.build_graph import create_torch_temporal_graph_from_df\n",
    "from temporal_graphs.src.models.dmgi_trainer import DMGITrainer\n",
    "\n",
    "logging.basicConfig(level=\"INFO\")\n",
    "prefix = \"dmgi\""
   ]
  },
  {
   "cell_type": "markdown",
   "id": "a25caa0c-4bbb-4826-8e14-9807bfd68011",
   "metadata": {},
   "source": [
    "# Data"
   ]
  },
  {
   "cell_type": "code",
   "execution_count": null,
   "id": "b3bd98ee-b07e-47b7-8c3d-54debf0c3c20",
   "metadata": {},
   "outputs": [],
   "source": [
    "number_of_nodes_frome_each = 300\n",
    "graph = make_dataset.get_subreddit_links(prefix=\"../\")\n",
    "nodes = set(set(graph[\"SOURCE_SUBREDDIT\"].value_counts()[:number_of_nodes_frome_each].index))\n",
    "nodes.update(set(graph[\"TARGET_SUBREDDIT\"].value_counts()[:number_of_nodes_frome_each].index))\n",
    "graph = graph[(graph[\"SOURCE_SUBREDDIT\"].isin(nodes)) & (graph[\"TARGET_SUBREDDIT\"].isin(nodes))]\n",
    "\n",
    "graph = make_dataset.add_date_group(graph, \"TIMESTAMP\", number_of_windows=20, window=12, offset=3)\n",
    "graph = graph[['SOURCE_SUBREDDIT', 'TARGET_SUBREDDIT', 'date_group']]\n",
    "graph.columns = [\"node_1\", \"node_2\", \"date_group\"]\n",
    "nodes = set(graph[\"node_1\"].unique())\n",
    "nodes.update(set(graph[\"node_2\"].unique()))\n",
    "\n",
    "node_name_dict = {i: name for i, name in enumerate(nodes)}\n",
    "name_node_dict = {v: k for k, v in node_name_dict.items()}\n",
    "\n",
    "graph[\"node_1\"] = graph[\"node_1\"].apply(lambda x: name_node_dict[x])\n",
    "graph[\"node_2\"] = graph[\"node_2\"].apply(lambda x: name_node_dict[x])\n",
    "\n",
    "graph = create_torch_temporal_graph_from_df(graph, save=False, path_prefix=\"../\", feature_size=256)"
   ]
  },
  {
   "cell_type": "code",
   "execution_count": null,
   "id": "a04dc3bd-a51d-4f47-9ff5-c2be078fd8a1",
   "metadata": {},
   "outputs": [],
   "source": [
    "graph"
   ]
  },
  {
   "cell_type": "markdown",
   "id": "1379d8fd-48d3-424b-8db8-c8774ae9a957",
   "metadata": {},
   "source": [
    "# Train"
   ]
  },
  {
   "cell_type": "code",
   "execution_count": null,
   "id": "4da2a7fb-f7fb-4e1d-9001-27f7eef49dc0",
   "metadata": {},
   "outputs": [],
   "source": [
    "if torch.cuda.is_available():\n",
    "    device = torch.device(\"cuda\")\n",
    "else:\n",
    "    device = torch.device(\"cpu\")\n",
    "device = torch.device(\"cpu\")\n",
    "device"
   ]
  },
  {
   "cell_type": "code",
   "execution_count": null,
   "id": "2ea8c895-5016-419c-9c86-396486ccc46c",
   "metadata": {},
   "outputs": [],
   "source": [
    "model = DMGITrainer(data=graph, out_channels=128, conv_name=\"GCNConv\", normalize_features=False, device=device, alpha=0.0001)"
   ]
  },
  {
   "cell_type": "code",
   "execution_count": null,
   "id": "376c156b-4230-4e38-8da3-5a14eba5e360",
   "metadata": {},
   "outputs": [],
   "source": [
    "model.train(epochs=5000, learning_rate=0.0001, \n",
    "            weight_decay=0.00005, \n",
    "            print_every_n_epoch=100)"
   ]
  },
  {
   "cell_type": "code",
   "execution_count": null,
   "id": "17117e3a-5093-4943-8f2c-77b75854303b",
   "metadata": {},
   "outputs": [],
   "source": [
    "model.save(path=f\"../temporal_graphs/models/{prefix}_model.pt\")"
   ]
  },
  {
   "cell_type": "code",
   "execution_count": null,
   "id": "5cf476b5-e7e6-478f-b3d8-c1b3898f4211",
   "metadata": {},
   "outputs": [],
   "source": [
    "embeddings = model.get_embeddings()"
   ]
  },
  {
   "cell_type": "code",
   "execution_count": null,
   "id": "4f0cab47-f5f5-4329-a587-d6442c1ecfcb",
   "metadata": {},
   "outputs": [],
   "source": [
    "torch.save(embeddings, f\"../temporal_graphs/models/{prefix}_embeddings.pt\")"
   ]
  },
  {
   "cell_type": "code",
   "execution_count": null,
   "id": "934c10d0-a288-4816-a65e-265ba3d09ea0",
   "metadata": {},
   "outputs": [],
   "source": [
    "embeddings = embeddings.cpu().detach().numpy().astype(\"double\")"
   ]
  }
 ],
 "metadata": {
  "kernelspec": {
   "display_name": "graph_nn",
   "language": "python",
   "name": "graph_nn"
  },
  "language_info": {
   "codemirror_mode": {
    "name": "ipython",
    "version": 3
   },
   "file_extension": ".py",
   "mimetype": "text/x-python",
   "name": "python",
   "nbconvert_exporter": "python",
   "pygments_lexer": "ipython3",
   "version": "3.9.2"
  }
 },
 "nbformat": 4,
 "nbformat_minor": 5
}
