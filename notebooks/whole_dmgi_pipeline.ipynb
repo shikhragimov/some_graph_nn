{
 "cells": [
  {
   "cell_type": "markdown",
   "id": "7e9fccf6-f68f-4999-bbe2-680e38b60332",
   "metadata": {},
   "source": [
    "Simple pipeline and plyground for analizing temporal graphs by using DMGI"
   ]
  },
  {
   "cell_type": "code",
   "execution_count": 1,
   "id": "6f07f4a2-f523-4161-8d85-4390a7373aef",
   "metadata": {},
   "outputs": [],
   "source": [
    "import sys\n",
    "import logging\n",
    "import torch\n",
    "sys.path.append(\"../\")\n",
    "from temporal_graphs.src.data.mock_data import get_temporal_mock_graph\n",
    "from temporal_graphs.src.temporal_graph.build_graph import create_torch_temporal_graph_from_df\n",
    "from temporal_graphs.src.models.dmgi_trainer import DMGITrainer\n",
    "\n",
    "logging.basicConfig(level=\"INFO\")\n",
    "prefix = \"dmgi\""
   ]
  },
  {
   "cell_type": "markdown",
   "id": "a25caa0c-4bbb-4826-8e14-9807bfd68011",
   "metadata": {},
   "source": [
    "# Data"
   ]
  },
  {
   "cell_type": "code",
   "execution_count": 2,
   "id": "b3bd98ee-b07e-47b7-8c3d-54debf0c3c20",
   "metadata": {},
   "outputs": [],
   "source": [
    "graph = get_temporal_mock_graph()\n",
    "graph = create_torch_temporal_graph_from_df(graph, save=False, path_prefix=\"../\")"
   ]
  },
  {
   "cell_type": "code",
   "execution_count": 3,
   "id": "a04dc3bd-a51d-4f47-9ff5-c2be078fd8a1",
   "metadata": {},
   "outputs": [
    {
     "data": {
      "text/plain": [
       "HeteroData(\n",
       "  \u001b[1mnode\u001b[0m={ x=[6, 4] },\n",
       "  \u001b[1m(node, in_date_group_0, node)\u001b[0m={ edge_index=[2, 29] },\n",
       "  \u001b[1m(node, in_date_group_1, node)\u001b[0m={ edge_index=[2, 15] },\n",
       "  \u001b[1m(node, in_date_group_2, node)\u001b[0m={ edge_index=[2, 15] },\n",
       "  \u001b[1m(node, in_date_group_3, node)\u001b[0m={ edge_index=[2, 17] },\n",
       "  \u001b[1m(node, in_date_group_4, node)\u001b[0m={ edge_index=[2, 24] }\n",
       ")"
      ]
     },
     "execution_count": 3,
     "metadata": {},
     "output_type": "execute_result"
    }
   ],
   "source": [
    "graph"
   ]
  },
  {
   "cell_type": "markdown",
   "id": "1379d8fd-48d3-424b-8db8-c8774ae9a957",
   "metadata": {},
   "source": [
    "# Train"
   ]
  },
  {
   "cell_type": "code",
   "execution_count": 4,
   "id": "4da2a7fb-f7fb-4e1d-9001-27f7eef49dc0",
   "metadata": {},
   "outputs": [
    {
     "data": {
      "text/plain": [
       "device(type='cpu')"
      ]
     },
     "execution_count": 4,
     "metadata": {},
     "output_type": "execute_result"
    }
   ],
   "source": [
    "if torch.cuda.is_available():\n",
    "    device = torch.device(\"cuda\")\n",
    "else:\n",
    "    device = torch.device(\"cpu\")\n",
    "device = torch.device(\"cpu\")\n",
    "device"
   ]
  },
  {
   "cell_type": "code",
   "execution_count": 5,
   "id": "2ea8c895-5016-419c-9c86-396486ccc46c",
   "metadata": {},
   "outputs": [],
   "source": [
    "model = DMGITrainer(data=graph, out_channels=10, conv_name=\"GCNConv\", normalize_features=False, device=device)"
   ]
  },
  {
   "cell_type": "code",
   "execution_count": 6,
   "id": "76717c33-3a78-477c-ba83-e3eec1bbaf6a",
   "metadata": {},
   "outputs": [
    {
     "name": "stderr",
     "output_type": "stream",
     "text": [
      "INFO:temporal_graphs.src.models.dmgi_trainer:Epoch: 001, Loss: 7.238\n",
      "INFO:temporal_graphs.src.models.dmgi_trainer:Epoch: 011, Loss: 6.914\n",
      "INFO:temporal_graphs.src.models.dmgi_trainer:Epoch: 021, Loss: 6.988\n",
      "INFO:temporal_graphs.src.models.dmgi_trainer:Epoch: 031, Loss: 6.806\n",
      "INFO:temporal_graphs.src.models.dmgi_trainer:Epoch: 041, Loss: 7.028\n",
      "INFO:temporal_graphs.src.models.dmgi_trainer:Epoch: 051, Loss: 6.883\n",
      "INFO:temporal_graphs.src.models.dmgi_trainer:Epoch: 061, Loss: 6.820\n",
      "INFO:temporal_graphs.src.models.dmgi_trainer:Epoch: 071, Loss: 6.844\n",
      "INFO:temporal_graphs.src.models.dmgi_trainer:Epoch: 081, Loss: 6.854\n",
      "INFO:temporal_graphs.src.models.dmgi_trainer:Epoch: 091, Loss: 6.869\n"
     ]
    }
   ],
   "source": [
    "model.train(epochs=100, learning_rate=0.005, weight_decay=0.00005, print_every_n_epoch=10)"
   ]
  },
  {
   "cell_type": "code",
   "execution_count": 7,
   "id": "17117e3a-5093-4943-8f2c-77b75854303b",
   "metadata": {},
   "outputs": [],
   "source": [
    "model.save(path=f\"../temporal_graphs/models/{prefix}_model.pt\")"
   ]
  },
  {
   "cell_type": "code",
   "execution_count": 8,
   "id": "5cf476b5-e7e6-478f-b3d8-c1b3898f4211",
   "metadata": {},
   "outputs": [],
   "source": [
    "embeddings = model.get_embeddings()"
   ]
  },
  {
   "cell_type": "code",
   "execution_count": 9,
   "id": "4f0cab47-f5f5-4329-a587-d6442c1ecfcb",
   "metadata": {},
   "outputs": [],
   "source": [
    "torch.save(embeddings, f\"../temporal_graphs/models/{prefix}_embeddings.pt\")"
   ]
  },
  {
   "cell_type": "code",
   "execution_count": 10,
   "id": "934c10d0-a288-4816-a65e-265ba3d09ea0",
   "metadata": {},
   "outputs": [],
   "source": [
    "embeddings = embeddings.cpu().detach().numpy().astype(\"double\")"
   ]
  }
 ],
 "metadata": {
  "kernelspec": {
   "display_name": "graph_nn",
   "language": "python",
   "name": "graph_nn"
  },
  "language_info": {
   "codemirror_mode": {
    "name": "ipython",
    "version": 3
   },
   "file_extension": ".py",
   "mimetype": "text/x-python",
   "name": "python",
   "nbconvert_exporter": "python",
   "pygments_lexer": "ipython3",
   "version": "3.9.2"
  }
 },
 "nbformat": 4,
 "nbformat_minor": 5
}
